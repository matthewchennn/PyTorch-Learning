{
  "nbformat": 4,
  "nbformat_minor": 0,
  "metadata": {
    "colab": {
      "provenance": [],
      "authorship_tag": "ABX9TyP3aQKUWYoAbo0T3vZlEeNl",
      "include_colab_link": true
    },
    "kernelspec": {
      "name": "python3",
      "display_name": "Python 3"
    },
    "language_info": {
      "name": "python"
    }
  },
  "cells": [
    {
      "cell_type": "markdown",
      "metadata": {
        "id": "view-in-github",
        "colab_type": "text"
      },
      "source": [
        "<a href=\"https://colab.research.google.com/github/matthewchennn/PyTorch-Learning/blob/main/Tensor_ops.ipynb\" target=\"_parent\"><img src=\"https://colab.research.google.com/assets/colab-badge.svg\" alt=\"Open In Colab\"/></a>"
      ]
    },
    {
      "cell_type": "code",
      "execution_count": null,
      "metadata": {
        "colab": {
          "base_uri": "https://localhost:8080/"
        },
        "id": "nDw6XOFKp3oz",
        "outputId": "0cc8b6e5-a562-47b2-ea12-0b9e640fa2a4"
      },
      "outputs": [
        {
          "output_type": "stream",
          "name": "stdout",
          "text": [
            "tensor([ 0,  1,  2,  3,  4,  5,  6,  7,  8,  9, 10, 11, 12, 13, 14])\n"
          ]
        }
      ],
      "source": [
        "import torch\n",
        "my_torch = torch.arange(15)\n",
        "print(my_torch)\n",
        "\n"
      ]
    },
    {
      "cell_type": "code",
      "source": [
        "# Reshapce\n",
        "\n",
        "my_torch = my_torch.reshape(3,5)\n",
        "print(my_torch)"
      ],
      "metadata": {
        "colab": {
          "base_uri": "https://localhost:8080/"
        },
        "id": "1i5JScOCqyZt",
        "outputId": "cb41c05d-9ecd-43ef-dd94-8e3be692130d"
      },
      "execution_count": null,
      "outputs": [
        {
          "output_type": "stream",
          "name": "stdout",
          "text": [
            "tensor([[ 0,  1,  2,  3,  4],\n",
            "        [ 5,  6,  7,  8,  9],\n",
            "        [10, 11, 12, 13, 14]])\n"
          ]
        }
      ]
    },
    {
      "cell_type": "code",
      "source": [
        "# -1 will autofit\n",
        "my_torch2 = my_torch.reshape(-1,5)\n",
        "print(my_torch2)\n",
        "my_torch2 = my_torch.reshape(5,-1)\n",
        "print(my_torch2)\n"
      ],
      "metadata": {
        "colab": {
          "base_uri": "https://localhost:8080/"
        },
        "id": "3EYS3mdcrPT2",
        "outputId": "f87edb8c-a208-46d9-c66a-3ba28af5dc1a"
      },
      "execution_count": null,
      "outputs": [
        {
          "output_type": "stream",
          "name": "stdout",
          "text": [
            "tensor([[ 0,  1,  2,  3,  4],\n",
            "        [ 5,  6,  7,  8,  9],\n",
            "        [10, 11, 12, 13, 14]])\n",
            "tensor([[ 0,  1,  2],\n",
            "        [ 3,  4,  5],\n",
            "        [ 6,  7,  8],\n",
            "        [ 9, 10, 11],\n",
            "        [12, 13, 14]])\n"
          ]
        }
      ]
    },
    {
      "cell_type": "code",
      "source": [
        "my_torch3 = torch.arange(10)\n",
        "\n",
        "my_torch4 = my_torch3.view(2,5) # torch.view only creates a \"view\" of the tensor, the original data is unimpacted\n",
        "print(my_torch4)"
      ],
      "metadata": {
        "colab": {
          "base_uri": "https://localhost:8080/"
        },
        "id": "2gRjIuwDrt9S",
        "outputId": "7ea48696-28b8-4b99-8362-715c40a50aa4"
      },
      "execution_count": null,
      "outputs": [
        {
          "output_type": "stream",
          "name": "stdout",
          "text": [
            "tensor([[0, 1, 2, 3, 4],\n",
            "        [5, 6, 7, 8, 9]])\n"
          ]
        }
      ]
    },
    {
      "cell_type": "code",
      "source": [
        "my_torch5 = torch.arange(10)\n",
        "print(my_torch5)\n",
        "\n",
        "my_torch6 = my_torch5.reshape(2,5)\n",
        "print(my_torch6)\n",
        "\n"
      ],
      "metadata": {
        "colab": {
          "base_uri": "https://localhost:8080/"
        },
        "id": "6CO1tZ2KsYck",
        "outputId": "7da9917d-fb52-40e8-994d-16709bbd8bd9"
      },
      "execution_count": null,
      "outputs": [
        {
          "output_type": "stream",
          "name": "stdout",
          "text": [
            "tensor([0, 1, 2, 3, 4, 5, 6, 7, 8, 9])\n",
            "tensor([[0, 1, 2, 3, 4],\n",
            "        [5, 6, 7, 8, 9]])\n"
          ]
        }
      ]
    },
    {
      "cell_type": "code",
      "source": [
        "my_torch5[1] = 1110\n",
        "print(my_torch5)\n",
        "print(my_torch6) # notice both terms are updated. WHEN A CHANGE IS MADE WITH RESHAPE\n",
        "                 # OR VIEW, IT AUTOMATICALLY GETS UPDATED\n"
      ],
      "metadata": {
        "colab": {
          "base_uri": "https://localhost:8080/"
        },
        "id": "9bBsPnWXs04h",
        "outputId": "140cc58f-a410-4985-c9dd-44fb9d6c0dfc"
      },
      "execution_count": null,
      "outputs": [
        {
          "output_type": "stream",
          "name": "stdout",
          "text": [
            "tensor([   0, 1110,    2,    3,    4,    5,    6,    7,    8,    9])\n",
            "tensor([[   0, 1110,    2,    3,    4],\n",
            "        [   5,    6,    7,    8,    9]])\n"
          ]
        }
      ]
    },
    {
      "cell_type": "code",
      "source": [
        "# Slices\n",
        "my_torch7 = torch.arange(12)\n",
        "print(my_torch7)\n",
        "\n",
        "# takes the 7th item in the tensor\n",
        "my_torch7[7]\n"
      ],
      "metadata": {
        "colab": {
          "base_uri": "https://localhost:8080/"
        },
        "id": "aVfgeJBitGqN",
        "outputId": "2b8c08f9-ac04-4430-e94f-c1268bdd162f"
      },
      "execution_count": null,
      "outputs": [
        {
          "output_type": "stream",
          "name": "stdout",
          "text": [
            "tensor([ 0,  1,  2,  3,  4,  5,  6,  7,  8,  9, 10, 11])\n"
          ]
        },
        {
          "output_type": "execute_result",
          "data": {
            "text/plain": [
              "tensor(7)"
            ]
          },
          "metadata": {},
          "execution_count": 31
        }
      ]
    },
    {
      "cell_type": "code",
      "source": [
        "# grab a slice of the seocond column\n",
        "torch8 = my_torch7.reshape(6,2)\n",
        "my_torch8 = torch8[:,1]\n",
        "print(my_torch8)"
      ],
      "metadata": {
        "colab": {
          "base_uri": "https://localhost:8080/"
        },
        "id": "hrJN6pA8te3A",
        "outputId": "f845fc69-7498-42c5-e841-c0851abc441a"
      },
      "execution_count": null,
      "outputs": [
        {
          "output_type": "stream",
          "name": "stdout",
          "text": [
            "tensor([ 1,  3,  5,  7,  9, 11])\n"
          ]
        }
      ]
    },
    {
      "cell_type": "code",
      "source": [],
      "metadata": {
        "id": "Cf1b4zGFuKDS"
      },
      "execution_count": null,
      "outputs": []
    }
  ]
}