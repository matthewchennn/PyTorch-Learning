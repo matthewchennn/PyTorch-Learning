{
  "nbformat": 4,
  "nbformat_minor": 0,
  "metadata": {
    "colab": {
      "provenance": [],
      "authorship_tag": "ABX9TyP0TRldytVqqDacyEWoowFA",
      "include_colab_link": true
    },
    "kernelspec": {
      "name": "python3",
      "display_name": "Python 3"
    },
    "language_info": {
      "name": "python"
    }
  },
  "cells": [
    {
      "cell_type": "markdown",
      "metadata": {
        "id": "view-in-github",
        "colab_type": "text"
      },
      "source": [
        "<a href=\"https://colab.research.google.com/github/matthewchennn/PyTorch-Learning/blob/main/basic_math.ipynb\" target=\"_parent\"><img src=\"https://colab.research.google.com/assets/colab-badge.svg\" alt=\"Open In Colab\"/></a>"
      ]
    },
    {
      "cell_type": "code",
      "execution_count": null,
      "metadata": {
        "id": "fBWlBZ5Kx-P0"
      },
      "outputs": [],
      "source": [
        "import torch\n",
        "import numpy as np"
      ]
    },
    {
      "cell_type": "code",
      "source": [
        "a = torch.tensor([2,4,5])\n",
        "b = torch.tensor([2,4,10])\n",
        "t = torch.add(a,b)\n",
        "print(t)"
      ],
      "metadata": {
        "colab": {
          "base_uri": "https://localhost:8080/"
        },
        "id": "fyl5M6NnyGBE",
        "outputId": "3000e258-d195-486d-b7fc-326a048823f4"
      },
      "execution_count": null,
      "outputs": [
        {
          "output_type": "stream",
          "name": "stdout",
          "text": [
            "tensor([ 4,  8, 15])\n"
          ]
        }
      ]
    },
    {
      "cell_type": "code",
      "source": [
        "# dot product\n",
        "mult = torch.multiply(a,b)\n",
        "print(mult)\n",
        "# division\n",
        "div = torch.divide(a,b)\n",
        "print(div)"
      ],
      "metadata": {
        "colab": {
          "base_uri": "https://localhost:8080/"
        },
        "id": "F-k3YFA8ybnC",
        "outputId": "46d90969-7023-49ac-b3fe-0414fbc2cd35"
      },
      "execution_count": null,
      "outputs": [
        {
          "output_type": "stream",
          "name": "stdout",
          "text": [
            "tensor([ 4, 16, 50])\n",
            "tensor([1.0000, 1.0000, 0.5000])\n"
          ]
        }
      ]
    },
    {
      "cell_type": "code",
      "source": [
        "rem = torch.remainder(a,b)\n",
        "print(rem)"
      ],
      "metadata": {
        "colab": {
          "base_uri": "https://localhost:8080/"
        },
        "id": "lMsflk7xzAEf",
        "outputId": "396aee20-cc29-4bb1-b311-ec362bd4ba13"
      },
      "execution_count": null,
      "outputs": [
        {
          "output_type": "stream",
          "name": "stdout",
          "text": [
            "tensor([0, 0, 5])\n"
          ]
        }
      ]
    },
    {
      "cell_type": "code",
      "source": [
        "# exponential\n",
        "exp = torch.pow(a,b)\n",
        "print(exp)"
      ],
      "metadata": {
        "colab": {
          "base_uri": "https://localhost:8080/"
        },
        "id": "mwXr-60NzEfS",
        "outputId": "7be16d6d-d23c-4289-c11a-f6442cbc88bd"
      },
      "execution_count": null,
      "outputs": [
        {
          "output_type": "stream",
          "name": "stdout",
          "text": [
            "tensor([      4,     256, 9765625])\n"
          ]
        }
      ]
    },
    {
      "cell_type": "code",
      "source": [
        "# Re-assigning value of a\n",
        "a + b\n",
        "print(a)\n",
        "a.add_(b)\n",
        "print(a)"
      ],
      "metadata": {
        "colab": {
          "base_uri": "https://localhost:8080/"
        },
        "id": "K5xCzIXezNdX",
        "outputId": "b6f7d5b5-4bcc-4bf0-ad15-1cf45f5e58bd"
      },
      "execution_count": null,
      "outputs": [
        {
          "output_type": "stream",
          "name": "stdout",
          "text": [
            "tensor([ 4,  8, 15])\n",
            "tensor([ 6, 12, 25])\n"
          ]
        }
      ]
    }
  ]
}